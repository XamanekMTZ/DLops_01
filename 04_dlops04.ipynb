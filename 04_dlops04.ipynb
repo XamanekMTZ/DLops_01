{
 "cells": [
  {
   "cell_type": "code",
   "execution_count": 1,
   "metadata": {},
   "outputs": [
    {
     "data": {
      "text/plain": [
       "Sequential(\n",
       "  (0): Linear(in_features=784, out_features=100, bias=True)\n",
       "  (1): ReLU()\n",
       "  (2): Linear(in_features=100, out_features=1, bias=True)\n",
       ")"
      ]
     },
     "execution_count": 1,
     "metadata": {},
     "output_type": "execute_result"
    }
   ],
   "source": [
    "from src import *\n",
    "\n",
    "module = MNISTModule.load_from_checkpoint( 'checkpoints/006-val_loss=0.15781-epoch=8.ckpt' )\n",
    "module.mlp"
   ]
  },
  {
   "cell_type": "code",
   "execution_count": 2,
   "metadata": {},
   "outputs": [
    {
     "data": {
      "text/plain": [
       "0.9375"
      ]
     },
     "execution_count": 2,
     "metadata": {},
     "output_type": "execute_result"
    }
   ],
   "source": [
    "import torch\n",
    "\n",
    "dm = MNISTDataModule( **module.hparams[ 'datamodule' ] )\n",
    "dm.setup()\n",
    "\n",
    "def torch_eval():\n",
    "    module.to('cpu') # se movio a cpu, aunque se puede mover el resto a gpu con .to('cuda')\n",
    "    module.eval()\n",
    "    with torch.no_grad():\n",
    "        preds, labels = torch.tensor([]), torch.tensor([])\n",
    "        for imgs, _labels in dm.val_dataloader():\n",
    "            outputs = module.predict(imgs) > 0.5\n",
    "            preds = torch.cat( [ preds, outputs.cpu().long() ] )\n",
    "            labels = torch.cat( [ labels, _labels ] )\n",
    "    \n",
    "    acc = (preds == labels).float().mean()\n",
    "    return acc.item()\n",
    "\n",
    "torch_eval()"
   ]
  },
  {
   "cell_type": "code",
   "execution_count": 4,
   "metadata": {},
   "outputs": [
    {
     "name": "stdout",
     "output_type": "stream",
     "text": [
      "============= Diagnostic Run torch.onnx.export version 2.0.1+cu117 =============\n",
      "verbose: False, log level: Level.ERROR\n",
      "======================= 0 NONE 0 NOTE 0 WARNING 0 ERROR ========================\n",
      "\n"
     ]
    }
   ],
   "source": [
    "input_sample = torch.randint( 0, 255, ( 1, 28, 28 ), dtype = torch.uint8 )\n",
    "module.to_onnx(\n",
    "    'models/binary_classifier_3.onnx', # file path to save the model\n",
    "    input_sample, # model's input sample\n",
    "    export_params = True, # export parameters (weights) of the model\n",
    "    opset_version = 11, # en función de los OPS en el modelo, se puede cambiar el opset\n",
    "    input_names = ['input'], # nombre de la entrada para usar en producción\n",
    "    output_names = ['output'], # nombre de la salida para usar en producción\n",
    "    dynamic_axes = {\n",
    "        'input' : { 0 : 'batch_size' }, \n",
    "        'output' : { 0 : 'batch_size' },\n",
    "    },\n",
    ")"
   ]
  },
  {
   "cell_type": "code",
   "execution_count": 5,
   "metadata": {},
   "outputs": [
    {
     "data": {
      "text/plain": [
       "(10,)"
      ]
     },
     "execution_count": 5,
     "metadata": {},
     "output_type": "execute_result"
    }
   ],
   "source": [
    "import onnxruntime as ort\n",
    "import numpy as np\n",
    "\n",
    "ort_session = ort.InferenceSession('models/binary_classifier_3.onnx')\n",
    "\n",
    "ort_inputs = {\n",
    "    \"input\": np.random.randint( 0, 255, ( 10, 28, 28 ), dtype = np.uint8 )\n",
    "}\n",
    "\n",
    "ort_output = ort_session.run( ['output'], ort_inputs )\n",
    "ort_output[0].shape"
   ]
  },
  {
   "cell_type": "code",
   "execution_count": 8,
   "metadata": {},
   "outputs": [
    {
     "data": {
      "text/plain": [
       "0.9375"
      ]
     },
     "execution_count": 8,
     "metadata": {},
     "output_type": "execute_result"
    }
   ],
   "source": [
    "def sigmoid(x):\n",
    "    return 1 / ( 1 + np.exp( -x ) )\n",
    "\n",
    "def onnx_eval():\n",
    "    with torch.no_grad():\n",
    "        preds, labels = [], torch.tensor( [] )\n",
    "        for imgs, _labels in dm.val_dataloader():\n",
    "            ort_inputs = {\n",
    "                \"input\": imgs.numpy(),\n",
    "            }\n",
    "            ort_output = ort_session.run( [\"output\"], ort_inputs)[0]\n",
    "            outputs = sigmoid( ort_output ) > 0.5\n",
    "            preds += outputs.astype( int ).tolist()\n",
    "            labels = torch.cat( [ labels, _labels ] )\n",
    "    acc = (np.array( preds ) == labels.numpy() ).astype( float ).mean()\n",
    "    return acc\n",
    "\n",
    "onnx_eval()"
   ]
  }
 ],
 "metadata": {
  "kernelspec": {
   "display_name": "DLops01",
   "language": "python",
   "name": "python3"
  },
  "language_info": {
   "codemirror_mode": {
    "name": "ipython",
    "version": 3
   },
   "file_extension": ".py",
   "mimetype": "text/x-python",
   "name": "python",
   "nbconvert_exporter": "python",
   "pygments_lexer": "ipython3",
   "version": "3.10.12"
  },
  "orig_nbformat": 4
 },
 "nbformat": 4,
 "nbformat_minor": 2
}
